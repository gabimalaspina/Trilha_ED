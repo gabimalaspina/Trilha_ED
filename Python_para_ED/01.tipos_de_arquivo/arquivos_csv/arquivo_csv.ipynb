{
 "cells": [
  {
   "cell_type": "code",
   "execution_count": 1,
   "metadata": {},
   "outputs": [],
   "source": [
    "import csv"
   ]
  },
  {
   "cell_type": "code",
   "execution_count": null,
   "metadata": {},
   "outputs": [],
   "source": [
    "# fazendo a leitura ('r') de um arquivo csv e armazenando os valores das linhas em um dicionário\n",
    "\n",
    "with open('amostra_dados.csv', 'r') as arquivo_csv:\n",
    "    dados = csv.DictReader(arquivo_csv, delimiter=',')\n",
    "    for linha in dados:\n",
    "        print(f'linha: {linha}')"
   ]
  },
  {
   "cell_type": "code",
   "execution_count": 3,
   "metadata": {},
   "outputs": [
    {
     "data": {
      "text/plain": [
       "dict"
      ]
     },
     "execution_count": 3,
     "metadata": {},
     "output_type": "execute_result"
    }
   ],
   "source": [
    "type(linha)"
   ]
  },
  {
   "cell_type": "code",
   "execution_count": 8,
   "metadata": {},
   "outputs": [],
   "source": [
    "# agora, vamos fazer a operação inversa, escrever um arquivo cdv ('w') a partir de uma lista:\n",
    "\n",
    "lista = [\n",
    "    ['nome', 'idade'],\n",
    "    ['nome01', 'idade01'],\n",
    "    ['nome02', 'idade02'],\n",
    "    ['nome03', 'idade03']\n",
    "]"
   ]
  },
  {
   "cell_type": "code",
   "execution_count": null,
   "metadata": {},
   "outputs": [],
   "source": [
    "with open('amostra_dados_criada.csv', 'w', encoding='utf8') as arquivo_csv2:\n",
    "    gravador = csv.writer(arquivo_csv2)\n",
    "    gravador.writerows(lista)"
   ]
  }
 ],
 "metadata": {
  "kernelspec": {
   "display_name": "Python 3",
   "language": "python",
   "name": "python3"
  },
  "language_info": {
   "codemirror_mode": {
    "name": "ipython",
    "version": 3
   },
   "file_extension": ".py",
   "mimetype": "text/x-python",
   "name": "python",
   "nbconvert_exporter": "python",
   "pygments_lexer": "ipython3",
   "version": "3.9.2"
  }
 },
 "nbformat": 4,
 "nbformat_minor": 2
}
