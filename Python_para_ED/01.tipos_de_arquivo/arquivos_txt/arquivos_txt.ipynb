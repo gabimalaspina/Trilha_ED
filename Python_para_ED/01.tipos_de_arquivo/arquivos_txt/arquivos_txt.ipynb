{
 "cells": [
  {
   "cell_type": "code",
   "execution_count": 18,
   "metadata": {},
   "outputs": [
    {
     "name": "stdout",
     "output_type": "stream",
     "text": [
      "AQUI TEMOS O CONTEÚDO DO ARQUIVO TXT =)\n",
      "\n",
      "AGORA, VAMOS CRIAR UM TXT COM DIVERSAS LINHAS:\n",
      "PARA FAZER A LEITURA ORGANIZADA, UTILIZAMOS A FUNÇÃO SPLITLINES() ASSOCIADA À FUNÇÃO READ().\n"
     ]
    }
   ],
   "source": [
    "# para trabalhar com txt, não é necessário importar nenhuma biblioteca adicional\n",
    "\n",
    "# fazerndo a abertura de um arquivo:\n",
    "\n",
    "with open ('arquivo_txt.txt', 'r') as variavel_que_contem_o_arquivo:\n",
    "    conteudo = variavel_que_contem_o_arquivo.read().splitlines()\n",
    "\n",
    "    for linha in conteudo:\n",
    "        print(linha.upper())"
   ]
  },
  {
   "cell_type": "code",
   "execution_count": 16,
   "metadata": {},
   "outputs": [
    {
     "data": {
      "text/plain": [
       "['aqui temos o conteúdo do arquivo txt =)',\n",
       " '',\n",
       " 'agora, vamos criar um txt com diversas linhas:',\n",
       " 'para fazer a leitura organizada, utilizamos a função splitlines() associada à função read().']"
      ]
     },
     "execution_count": 16,
     "metadata": {},
     "output_type": "execute_result"
    }
   ],
   "source": [
    "conteudo"
   ]
  },
  {
   "cell_type": "code",
   "execution_count": 25,
   "metadata": {},
   "outputs": [
    {
     "data": {
      "text/plain": [
       "_io.TextIOWrapper"
      ]
     },
     "execution_count": 25,
     "metadata": {},
     "output_type": "execute_result"
    }
   ],
   "source": [
    "type(variavel_que_contem_o_arquivo)"
   ]
  },
  {
   "cell_type": "code",
   "execution_count": 32,
   "metadata": {},
   "outputs": [],
   "source": [
    "# agora, vamos gravar um conteúdo de texto em um arquivo txt:\n",
    "\n",
    "with open ('arquivo_txt_2', 'w') as arquivo_2:\n",
    "    arquivo_2.write('conteúdo a ser gravado no arquivo.\\n(vamos inserir uma quebra de linha só pra ver um negócio)')"
   ]
  },
  {
   "cell_type": "code",
   "execution_count": 33,
   "metadata": {},
   "outputs": [
    {
     "name": "stdout",
     "output_type": "stream",
     "text": [
      "conteúdo a ser gravado no arquivo.\n",
      "(vamos inserir uma quebra de linha só pra ver um negócio)\n"
     ]
    }
   ],
   "source": [
    "# agora, vamos fazer a leitura para ver se foi criado direitinho\n",
    "\n",
    "with open ('arquivo_txt_2', 'r') as variavel:\n",
    "    conteudo2 = variavel.read().splitlines()\n",
    "    for linha in conteudo2:\n",
    "        print(linha)"
   ]
  },
  {
   "cell_type": "code",
   "execution_count": 36,
   "metadata": {},
   "outputs": [
    {
     "name": "stdout",
     "output_type": "stream",
     "text": [
      "['conteúdo a ser gravado no arquivo.', '(vamos inserir uma quebra de linha só pra ver um negócio)']\n"
     ]
    }
   ],
   "source": [
    "print(conteudo2)"
   ]
  },
  {
   "cell_type": "code",
   "execution_count": null,
   "metadata": {},
   "outputs": [],
   "source": [
    "# conclusão, usando o splitline, o valor mostrado é"
   ]
  }
 ],
 "metadata": {
  "kernelspec": {
   "display_name": "Python 3",
   "language": "python",
   "name": "python3"
  },
  "language_info": {
   "codemirror_mode": {
    "name": "ipython",
    "version": 3
   },
   "file_extension": ".py",
   "mimetype": "text/x-python",
   "name": "python",
   "nbconvert_exporter": "python",
   "pygments_lexer": "ipython3",
   "version": "3.9.2"
  }
 },
 "nbformat": 4,
 "nbformat_minor": 2
}
