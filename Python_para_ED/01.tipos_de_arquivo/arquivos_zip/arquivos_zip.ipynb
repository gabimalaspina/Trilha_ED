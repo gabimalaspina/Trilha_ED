{
 "cells": [
  {
   "cell_type": "code",
   "execution_count": 5,
   "metadata": {},
   "outputs": [],
   "source": [
    "from zipfile import ZipFile\n",
    "import zipfile"
   ]
  },
  {
   "cell_type": "code",
   "execution_count": 6,
   "metadata": {},
   "outputs": [],
   "source": [
    "# primeiro, vamos trabalhar com a descompactação de um arquivo zip\n",
    "# para isso, utilizamos a função ZipFile do módulo zipfile, e a função extractall\n",
    "\n",
    "with zipfile.ZipFile('files_1.zip') as zip:\n",
    "    zip.extractall('./unzip/extraido')"
   ]
  },
  {
   "cell_type": "code",
   "execution_count": 8,
   "metadata": {},
   "outputs": [
    {
     "data": {
      "text/plain": [
       "'/home/lula/Trilha_ED/Python_para_ED/tipos_de_arquivo/arquivos_zip/pasta_zipada.zip.zip'"
      ]
     },
     "execution_count": 8,
     "metadata": {},
     "output_type": "execute_result"
    }
   ],
   "source": [
    "# agora, para compactar arquivos, precisamos importar uma nova biblioteca:\n",
    "\n",
    "import shutil\n",
    "\n",
    "# para compactar os arquivos, precisamos informar: destino, formato, conteúdo a ser zipado\n",
    "\n",
    "shutil.make_archive('./pasta_zipada.zip', 'zip', './to_zip')\n",
    "\n",
    "\n",
    "\n"
   ]
  }
 ],
 "metadata": {
  "kernelspec": {
   "display_name": "Python 3",
   "language": "python",
   "name": "python3"
  },
  "language_info": {
   "codemirror_mode": {
    "name": "ipython",
    "version": 3
   },
   "file_extension": ".py",
   "mimetype": "text/x-python",
   "name": "python",
   "nbconvert_exporter": "python",
   "pygments_lexer": "ipython3",
   "version": "3.9.2"
  }
 },
 "nbformat": 4,
 "nbformat_minor": 2
}
