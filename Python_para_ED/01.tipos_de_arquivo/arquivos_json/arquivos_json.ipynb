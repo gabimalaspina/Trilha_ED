{
 "cells": [
  {
   "cell_type": "code",
   "execution_count": 1,
   "metadata": {},
   "outputs": [],
   "source": [
    "import json"
   ]
  },
  {
   "cell_type": "code",
   "execution_count": 2,
   "metadata": {},
   "outputs": [],
   "source": [
    "# lendo um arquivo json\n",
    "\n",
    "# quando fazemos a leitura de um arquivo json, o python armazena os dados como dicionário\n",
    "\n",
    "with open ('file_1.json', 'r') as arquivo_json:\n",
    "    dados = json.load(arquivo_json)"
   ]
  },
  {
   "cell_type": "code",
   "execution_count": 3,
   "metadata": {},
   "outputs": [
    {
     "data": {
      "text/plain": [
       "{'season': 2023,\n",
       " 'current': 'yes',\n",
       " 'pilots': [{'name': 'Lewis Hamilton',\n",
       "   'team': 'Mercedes',\n",
       "   'nationality': 'British'},\n",
       "  {'name': 'Max Verstappen',\n",
       "   'team': 'Red Bull Racing',\n",
       "   'nationality': 'Dutch'},\n",
       "  {'name': 'Charles Leclerc', 'team': 'Ferrari', 'nationality': 'Monégasque'}]}"
      ]
     },
     "execution_count": 3,
     "metadata": {},
     "output_type": "execute_result"
    }
   ],
   "source": [
    "dados"
   ]
  },
  {
   "cell_type": "code",
   "execution_count": 9,
   "metadata": {},
   "outputs": [],
   "source": [
    "pilotos = dados.get('pilots')"
   ]
  },
  {
   "cell_type": "code",
   "execution_count": 11,
   "metadata": {},
   "outputs": [
    {
     "data": {
      "text/plain": [
       "[{'name': 'Lewis Hamilton', 'team': 'Mercedes', 'nationality': 'British'},\n",
       " {'name': 'Max Verstappen', 'team': 'Red Bull Racing', 'nationality': 'Dutch'},\n",
       " {'name': 'Charles Leclerc', 'team': 'Ferrari', 'nationality': 'Monégasque'}]"
      ]
     },
     "execution_count": 11,
     "metadata": {},
     "output_type": "execute_result"
    }
   ],
   "source": [
    "pilotos"
   ]
  },
  {
   "cell_type": "code",
   "execution_count": 18,
   "metadata": {},
   "outputs": [],
   "source": [
    "# escrevendo um arquivo json \n",
    "\n",
    "# da mesma forma, para escrever um json, precisamos armazenar os dados em um dicionário\n",
    "\n",
    "# então primeiro, vamos criar um dicionário:\n",
    "\n",
    "dicionario = [\n",
    "    {'nome':'gabi', \n",
    "    'idade':'31', \n",
    "    'data nascimento':'25/05/1992'},\n",
    "    {'nome':'le', \n",
    "    'idade':'27', \n",
    "    'data nascimento':'13/04/1996'}\n",
    "]"
   ]
  },
  {
   "cell_type": "code",
   "execution_count": 19,
   "metadata": {},
   "outputs": [
    {
     "data": {
      "text/plain": [
       "[{'nome': 'gabi', 'idade': '31', 'data nascimento': '25/05/1992'},\n",
       " {'nome': 'le', 'idade': '27', 'data nascimento': '13/04/1996'}]"
      ]
     },
     "execution_count": 19,
     "metadata": {},
     "output_type": "execute_result"
    }
   ],
   "source": [
    "dicionario"
   ]
  },
  {
   "cell_type": "code",
   "execution_count": 17,
   "metadata": {},
   "outputs": [],
   "source": [
    "with open('json_criado.json ', 'w') as arquivo_json3:\n",
    "    json.dump(dicionario, arquivo_json3)"
   ]
  },
  {
   "cell_type": "code",
   "execution_count": null,
   "metadata": {},
   "outputs": [],
   "source": []
  }
 ],
 "metadata": {
  "kernelspec": {
   "display_name": "Python 3",
   "language": "python",
   "name": "python3"
  },
  "language_info": {
   "codemirror_mode": {
    "name": "ipython",
    "version": 3
   },
   "file_extension": ".py",
   "mimetype": "text/x-python",
   "name": "python",
   "nbconvert_exporter": "python",
   "pygments_lexer": "ipython3",
   "version": "3.9.2"
  }
 },
 "nbformat": 4,
 "nbformat_minor": 2
}
