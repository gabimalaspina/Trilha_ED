{
 "cells": [
  {
   "cell_type": "code",
   "execution_count": 3,
   "metadata": {},
   "outputs": [],
   "source": [
    "import yaml "
   ]
  },
  {
   "cell_type": "code",
   "execution_count": 10,
   "metadata": {},
   "outputs": [
    {
     "name": "stdout",
     "output_type": "stream",
     "text": [
      "{'computador': {'monitor': 'LG-21\"', 'memoria': {'ram': '16gb'}, 'disco': {'ssd': '256gb', 'hdd': '1tb'}, 'cpu': {'model': 'ryzen 5600x'}}}\n"
     ]
    }
   ],
   "source": [
    "# esse formato de arquivo não é, normalmente, utilizado para processar dados, e sim para lidar com dados de configurações de sistemas, etls, certificados, enfim\n",
    "\n",
    "with open ('file_1.yaml', 'r') as yaml_01:\n",
    "    try:\n",
    "        conteudo = yaml.load(yaml_01, Loader=yaml.FullLoader)\n",
    "        print(conteudo)\n",
    "    except  Exception as erro:\n",
    "        print({erro})"
   ]
  }
 ],
 "metadata": {
  "kernelspec": {
   "display_name": "Python 3",
   "language": "python",
   "name": "python3"
  },
  "language_info": {
   "codemirror_mode": {
    "name": "ipython",
    "version": 3
   },
   "file_extension": ".py",
   "mimetype": "text/x-python",
   "name": "python",
   "nbconvert_exporter": "python",
   "pygments_lexer": "ipython3",
   "version": "3.9.2"
  }
 },
 "nbformat": 4,
 "nbformat_minor": 2
}
