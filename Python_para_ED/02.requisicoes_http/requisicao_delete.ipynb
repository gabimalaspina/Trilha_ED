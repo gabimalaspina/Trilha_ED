{
 "cells": [
  {
   "cell_type": "code",
   "execution_count": 1,
   "metadata": {},
   "outputs": [],
   "source": [
    "import requests"
   ]
  },
  {
   "cell_type": "code",
   "execution_count": 2,
   "metadata": {},
   "outputs": [],
   "source": [
    "# configurações iniciais para trabalhar com requisições \n",
    "\n",
    "url_base = 'https://gorest.co.in/public/v2/users'\n",
    "token = 'f1bf1cf35aacf0ec75dc001f318fb21bfd59ded24d284fb2c0b7b77e94493593'\n",
    "\n",
    "id_usuario = '5825022'\n",
    "url_usuario = f'{url_base}/{id_usuario}'"
   ]
  },
  {
   "cell_type": "code",
   "execution_count": 3,
   "metadata": {},
   "outputs": [],
   "source": [
    "# configuração da autenticação, utilizando o token\n",
    "\n",
    "autenticacao = {\n",
    "    'Authorization':f'Bearer{token}'\n",
    "}\n",
    "\n",
    "# dados que vamos deletar:\n",
    "\n",
    "dados_exclusao = {\n",
    "    'id': id_usuario\n",
    "}"
   ]
  },
  {
   "cell_type": "code",
   "execution_count": 5,
   "metadata": {},
   "outputs": [],
   "source": [
    "# agora, vamos para a exclusão em si. o que desejamos deletar? os dados referentes ao usuário de id informado - no caso, deletamos o ID\n",
    "\n",
    "excluir = requests.delete(url_usuario, headers=autenticacao, data=dados_exclusao)"
   ]
  },
  {
   "cell_type": "code",
   "execution_count": 6,
   "metadata": {},
   "outputs": [
    {
     "data": {
      "text/plain": [
       "<Response [401]>"
      ]
     },
     "execution_count": 6,
     "metadata": {},
     "output_type": "execute_result"
    }
   ],
   "source": [
    "excluir"
   ]
  }
 ],
 "metadata": {
  "kernelspec": {
   "display_name": "Python 3",
   "language": "python",
   "name": "python3"
  },
  "language_info": {
   "codemirror_mode": {
    "name": "ipython",
    "version": 3
   },
   "file_extension": ".py",
   "mimetype": "text/x-python",
   "name": "python",
   "nbconvert_exporter": "python",
   "pygments_lexer": "ipython3",
   "version": "3.9.2"
  }
 },
 "nbformat": 4,
 "nbformat_minor": 2
}
