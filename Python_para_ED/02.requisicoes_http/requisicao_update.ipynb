{
 "cells": [
  {
   "cell_type": "code",
   "execution_count": 1,
   "metadata": {},
   "outputs": [],
   "source": [
    "import requests"
   ]
  },
  {
   "cell_type": "code",
   "execution_count": 4,
   "metadata": {},
   "outputs": [],
   "source": [
    "# como não consegui fazer o POST, vou procurar alguns dados específicos existentes na listagem de usuários para poder dar sequencia nos estudos\n",
    "# exemplo de usuário abaixo?\n",
    "\n",
    "#   {\n",
    "#     \"id\": 5825025,\n",
    "#     \"name\": \"Devak Rana\",\n",
    "#     \"email\": \"devak_rana@mcglynn.test\",\n",
    "#     \"gender\": \"male\",\n",
    "#     \"status\": \"inactive\"\n",
    "#   },\n",
    "\n",
    "url = 'https://gorest.co.in/public/v2/users'"
   ]
  },
  {
   "cell_type": "code",
   "execution_count": 5,
   "metadata": {},
   "outputs": [],
   "source": [
    "consulta = requests.get(url)"
   ]
  },
  {
   "cell_type": "code",
   "execution_count": 9,
   "metadata": {},
   "outputs": [
    {
     "data": {
      "text/plain": [
       "[{'id': 5825033,\n",
       "  'name': 'Indra Khanna',\n",
       "  'email': 'khanna_indra@abshire.test',\n",
       "  'gender': 'female',\n",
       "  'status': 'active'},\n",
       " {'id': 5825032,\n",
       "  'name': 'Chidananda Rana Sr.',\n",
       "  'email': 'rana_chidananda_sr@effertz.example',\n",
       "  'gender': 'female',\n",
       "  'status': 'inactive'},\n",
       " {'id': 5825030,\n",
       "  'name': 'Dev Menon',\n",
       "  'email': 'dev_menon@stehr-hegmann.example',\n",
       "  'gender': 'female',\n",
       "  'status': 'active'},\n",
       " {'id': 5825029,\n",
       "  'name': 'Aditya Varma Ret.',\n",
       "  'email': 'ret_aditya_varma@jast.example',\n",
       "  'gender': 'male',\n",
       "  'status': 'inactive'},\n",
       " {'id': 5825028,\n",
       "  'name': 'Chakrika Nehru LLD',\n",
       "  'email': 'chakrika_lld_nehru@wyman-shields.example',\n",
       "  'gender': 'male',\n",
       "  'status': 'inactive'},\n",
       " {'id': 5825026,\n",
       "  'name': 'Bhagavaan Reddy DO',\n",
       "  'email': 'reddy_bhagavaan_do@sporer.example',\n",
       "  'gender': 'male',\n",
       "  'status': 'inactive'},\n",
       " {'id': 5825025,\n",
       "  'name': 'Devak Rana',\n",
       "  'email': 'devak_rana@mcglynn.test',\n",
       "  'gender': 'male',\n",
       "  'status': 'inactive'},\n",
       " {'id': 5825024,\n",
       "  'name': 'Fr. Deeptiman Malik',\n",
       "  'email': 'malik_deeptiman_fr@torphy.test',\n",
       "  'gender': 'female',\n",
       "  'status': 'active'},\n",
       " {'id': 5825023,\n",
       "  'name': 'Devi Somayaji',\n",
       "  'email': 'somayaji_devi@daniel-olson.example',\n",
       "  'gender': 'male',\n",
       "  'status': 'active'},\n",
       " {'id': 5825022,\n",
       "  'name': 'Dayaananda Khatri',\n",
       "  'email': 'khatri_dayaananda@balistreri-beier.example',\n",
       "  'gender': 'female',\n",
       "  'status': 'active'}]"
      ]
     },
     "execution_count": 9,
     "metadata": {},
     "output_type": "execute_result"
    }
   ],
   "source": [
    "consulta.json() # traz tudo"
   ]
  },
  {
   "cell_type": "code",
   "execution_count": 25,
   "metadata": {},
   "outputs": [],
   "source": [
    "user_id = '5825022'\n",
    "\n",
    "consulta_usuario_especifico = requests.get(f'{url}/{user_id}')"
   ]
  },
  {
   "cell_type": "code",
   "execution_count": 26,
   "metadata": {},
   "outputs": [],
   "source": [
    "resposta = consulta_usuario_especifico.json()"
   ]
  },
  {
   "cell_type": "code",
   "execution_count": 27,
   "metadata": {},
   "outputs": [
    {
     "data": {
      "text/plain": [
       "'active'"
      ]
     },
     "execution_count": 27,
     "metadata": {},
     "output_type": "execute_result"
    }
   ],
   "source": [
    "status = resposta.get('status')\n",
    "status"
   ]
  },
  {
   "cell_type": "code",
   "execution_count": 22,
   "metadata": {},
   "outputs": [],
   "source": [
    "# agora, vamos fazer um UPDATE e alterar o status do cidadão\n",
    "\n",
    "# primeiro, vamos colocar o campo do id, para localizar, e o campo que queremos alterar\n",
    "\n",
    "dados_atualizados = {\n",
    "    'id':user_id,\n",
    "    'status':'inactive'\n",
    "}\n",
    "\n",
    "# da mesma forma que no método POST, precisamos informar o token de acesso\n",
    "\n",
    "url_a_atualizar = f'{url}/{user_id}'\n",
    "token = 'f1bf1cf35aacf0ec75dc001f318fb21bfd59ded24d284fb2c0b7b77e94493593'\n",
    "\n",
    "autenticacao = {\n",
    "    'Authorization':f'Bearer{token}'    \n",
    "}"
   ]
  },
  {
   "cell_type": "code",
   "execution_count": 23,
   "metadata": {},
   "outputs": [],
   "source": [
    "# por fim, vamos chamar o método UPDATE\n",
    "\n",
    "atualizacao = requests.patch(url_a_atualizar, headers=autenticacao, data=dados_atualizados)"
   ]
  },
  {
   "cell_type": "code",
   "execution_count": 28,
   "metadata": {},
   "outputs": [
    {
     "data": {
      "text/plain": [
       "<Response [401]>"
      ]
     },
     "execution_count": 28,
     "metadata": {},
     "output_type": "execute_result"
    }
   ],
   "source": [
    "atualizacao"
   ]
  }
 ],
 "metadata": {
  "kernelspec": {
   "display_name": "Python 3",
   "language": "python",
   "name": "python3"
  },
  "language_info": {
   "codemirror_mode": {
    "name": "ipython",
    "version": 3
   },
   "file_extension": ".py",
   "mimetype": "text/x-python",
   "name": "python",
   "nbconvert_exporter": "python",
   "pygments_lexer": "ipython3",
   "version": "3.9.2"
  }
 },
 "nbformat": 4,
 "nbformat_minor": 2
}
