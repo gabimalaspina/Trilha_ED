{
 "cells": [
  {
   "cell_type": "code",
   "execution_count": 1,
   "metadata": {},
   "outputs": [],
   "source": [
    "import requests"
   ]
  },
  {
   "cell_type": "code",
   "execution_count": 25,
   "metadata": {},
   "outputs": [],
   "source": [
    "# agora, para trabalhar com uma requisição do tipo POST, precisamos do endpoint e do token de acesso\n",
    "\n",
    "url = 'https://gorest.co.in/public/v2/users'\n",
    "token = 'f1bf1cf35aacf0ec75dc001f318fb21bfd59ded24d284fb2c0b7b77e94493593'"
   ]
  },
  {
   "cell_type": "code",
   "execution_count": 26,
   "metadata": {},
   "outputs": [],
   "source": [
    "# para trabalhar com o token, precisamos incluí-lo como f-string em um dicionário, que será lido pelo parâmetro \"headers\" da função POST\n",
    "\n",
    "info_token = {\n",
    "    'Authorization':f'Bearer{token}' # obs: essa função \"bearer\" é padrão\n",
    "}"
   ]
  },
  {
   "cell_type": "code",
   "execution_count": 27,
   "metadata": {},
   "outputs": [],
   "source": [
    "# dados do novo usuário, que queremos incluir (fazer o POST) na nossa url:\n",
    "\n",
    "novo_usuario ={\n",
    "    'name': 'gabis',\n",
    "    'gender': 'female',\n",
    "    'email': 'teste@gmail.com',\n",
    "    'status': 'active'\n",
    "}"
   ]
  },
  {
   "cell_type": "code",
   "execution_count": 40,
   "metadata": {},
   "outputs": [],
   "source": [
    "# agora, finalmente, vamos fazer a requisição POST para incluir os dados do novo usuário na base de usuários:\n",
    "\n",
    "inclusao_usuario = requests.post(\n",
    "    url,\n",
    "    headers=info_token,\n",
    "    data=novo_usuario\n",
    ")"
   ]
  },
  {
   "cell_type": "code",
   "execution_count": 41,
   "metadata": {},
   "outputs": [
    {
     "data": {
      "text/plain": [
       "b'{\"message\":\"Authentication failed\"}'"
      ]
     },
     "execution_count": 41,
     "metadata": {},
     "output_type": "execute_result"
    }
   ],
   "source": [
    "inclusao_usuario.content"
   ]
  },
  {
   "cell_type": "code",
   "execution_count": 18,
   "metadata": {},
   "outputs": [
    {
     "data": {
      "text/plain": [
       "{'message': 'Authentication failed'}"
      ]
     },
     "execution_count": 18,
     "metadata": {},
     "output_type": "execute_result"
    }
   ],
   "source": [
    "inclusao_usuario.json()"
   ]
  }
 ],
 "metadata": {
  "kernelspec": {
   "display_name": "Python 3",
   "language": "python",
   "name": "python3"
  },
  "language_info": {
   "codemirror_mode": {
    "name": "ipython",
    "version": 3
   },
   "file_extension": ".py",
   "mimetype": "text/x-python",
   "name": "python",
   "nbconvert_exporter": "python",
   "pygments_lexer": "ipython3",
   "version": "3.9.2"
  }
 },
 "nbformat": 4,
 "nbformat_minor": 2
}
