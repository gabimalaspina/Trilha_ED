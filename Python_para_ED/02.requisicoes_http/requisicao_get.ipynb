{
 "cells": [
  {
   "cell_type": "code",
   "execution_count": 1,
   "metadata": {},
   "outputs": [],
   "source": [
    "import requests # biblioteca para trabalhar com requisições http"
   ]
  },
  {
   "cell_type": "code",
   "execution_count": 2,
   "metadata": {},
   "outputs": [],
   "source": [
    "url = 'https://gorest.co.in/public/v2/users' # nosso endpoint, que contempla a url base e o recurso que queremos acessar"
   ]
  },
  {
   "cell_type": "code",
   "execution_count": 3,
   "metadata": {},
   "outputs": [],
   "source": [
    "resposta = requests.get(url)"
   ]
  },
  {
   "cell_type": "code",
   "execution_count": 6,
   "metadata": {},
   "outputs": [
    {
     "data": {
      "text/plain": [
       "200"
      ]
     },
     "execution_count": 6,
     "metadata": {},
     "output_type": "execute_result"
    }
   ],
   "source": [
    "resposta.status_code"
   ]
  },
  {
   "cell_type": "code",
   "execution_count": 7,
   "metadata": {},
   "outputs": [],
   "source": [
    "dados = resposta.json()"
   ]
  },
  {
   "cell_type": "code",
   "execution_count": 8,
   "metadata": {},
   "outputs": [
    {
     "data": {
      "text/plain": [
       "[{'id': 5825034,\n",
       "  'name': 'Narayan Panicker Esq.',\n",
       "  'email': 'esq_panicker_narayan@smitham.example',\n",
       "  'gender': 'female',\n",
       "  'status': 'inactive'},\n",
       " {'id': 5825033,\n",
       "  'name': 'Indra Khanna',\n",
       "  'email': 'khanna_indra@abshire.test',\n",
       "  'gender': 'female',\n",
       "  'status': 'active'},\n",
       " {'id': 5825032,\n",
       "  'name': 'Chidananda Rana Sr.',\n",
       "  'email': 'rana_chidananda_sr@effertz.example',\n",
       "  'gender': 'female',\n",
       "  'status': 'inactive'},\n",
       " {'id': 5825030,\n",
       "  'name': 'Dev Menon',\n",
       "  'email': 'dev_menon@stehr-hegmann.example',\n",
       "  'gender': 'female',\n",
       "  'status': 'active'},\n",
       " {'id': 5825029,\n",
       "  'name': 'Aditya Varma Ret.',\n",
       "  'email': 'ret_aditya_varma@jast.example',\n",
       "  'gender': 'male',\n",
       "  'status': 'inactive'},\n",
       " {'id': 5825028,\n",
       "  'name': 'Chakrika Nehru LLD',\n",
       "  'email': 'chakrika_lld_nehru@wyman-shields.example',\n",
       "  'gender': 'male',\n",
       "  'status': 'inactive'},\n",
       " {'id': 5825026,\n",
       "  'name': 'Bhagavaan Reddy DO',\n",
       "  'email': 'reddy_bhagavaan_do@sporer.example',\n",
       "  'gender': 'male',\n",
       "  'status': 'inactive'},\n",
       " {'id': 5825025,\n",
       "  'name': 'Devak Rana',\n",
       "  'email': 'devak_rana@mcglynn.test',\n",
       "  'gender': 'male',\n",
       "  'status': 'inactive'},\n",
       " {'id': 5825024,\n",
       "  'name': 'Fr. Deeptiman Malik',\n",
       "  'email': 'malik_deeptiman_fr@torphy.test',\n",
       "  'gender': 'female',\n",
       "  'status': 'active'},\n",
       " {'id': 5825023,\n",
       "  'name': 'Devi Somayaji',\n",
       "  'email': 'somayaji_devi@daniel-olson.example',\n",
       "  'gender': 'male',\n",
       "  'status': 'active'}]"
      ]
     },
     "execution_count": 8,
     "metadata": {},
     "output_type": "execute_result"
    }
   ],
   "source": [
    "dados"
   ]
  },
  {
   "cell_type": "code",
   "execution_count": 9,
   "metadata": {},
   "outputs": [
    {
     "data": {
      "text/plain": [
       "{'Date': 'Sun, 10 Dec 2023 12:23:00 GMT', 'Content-Type': 'application/json; charset=utf-8', 'Transfer-Encoding': 'chunked', 'Connection': 'keep-alive', 'Cache-Control': 'max-age=0, private, must-revalidate', 'etag': 'W/\"69cafb4ca9d021fe6d106f703730b553\"', 'referrer-policy': 'strict-origin-when-cross-origin', 'vary': 'Origin', 'x-content-type-options': 'nosniff', 'x-download-options': 'noopen', 'x-frame-options': 'SAMEORIGIN', 'x-links-current': 'https://gorest.co.in/public/v2/users?page=1', 'x-links-next': 'https://gorest.co.in/public/v2/users?page=2', 'x-links-previous': '', 'x-pagination-limit': '10', 'x-pagination-page': '1', 'x-pagination-pages': '297', 'x-pagination-total': '2961', 'x-permitted-cross-domain-policies': 'none', 'x-request-id': 'e27188d8-a56a-4b04-97c9-9eb2689dc5bd', 'x-runtime': '0.068997', 'x-xss-protection': '0', 'CF-Cache-Status': 'DYNAMIC', 'Report-To': '{\"endpoints\":[{\"url\":\"https:\\\\/\\\\/a.nel.cloudflare.com\\\\/report\\\\/v3?s=rkrTO%2FXjeVJUxekoMU8yDPbC8TnCAOovfURzIUnji0WSfn8vKnmeJ1gzxWTb%2FRVmZoft8Jd0Gu05tct4%2FBZt756gv48YLoRGaqUGKEE%2FZyRvHevXgfMUG2yEFuX76PMvK5K%2Bg5fIWHJPhw4%3D\"}],\"group\":\"cf-nel\",\"max_age\":604800}', 'NEL': '{\"success_fraction\":0,\"report_to\":\"cf-nel\",\"max_age\":604800}', 'Server': 'cloudflare', 'CF-RAY': '833574dcae313346-MIA', 'Content-Encoding': 'gzip', 'alt-svc': 'h3=\":443\"; ma=86400'}"
      ]
     },
     "execution_count": 9,
     "metadata": {},
     "output_type": "execute_result"
    }
   ],
   "source": [
    "resposta.headers "
   ]
  },
  {
   "cell_type": "code",
   "execution_count": null,
   "metadata": {},
   "outputs": [],
   "source": []
  }
 ],
 "metadata": {
  "kernelspec": {
   "display_name": "Python 3",
   "language": "python",
   "name": "python3"
  },
  "language_info": {
   "codemirror_mode": {
    "name": "ipython",
    "version": 3
   },
   "file_extension": ".py",
   "mimetype": "text/x-python",
   "name": "python",
   "nbconvert_exporter": "python",
   "pygments_lexer": "ipython3",
   "version": "3.9.2"
  }
 },
 "nbformat": 4,
 "nbformat_minor": 2
}
