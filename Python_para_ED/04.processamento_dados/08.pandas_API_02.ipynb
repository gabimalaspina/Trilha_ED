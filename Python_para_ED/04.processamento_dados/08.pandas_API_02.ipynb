{
 "cells": [
  {
   "cell_type": "code",
   "execution_count": 1,
   "metadata": {},
   "outputs": [],
   "source": [
    "import pandas as pd\n",
    "import requests, logging\n",
    "\n",
    "from datetime import datetime as dt"
   ]
  },
  {
   "cell_type": "code",
   "execution_count": 2,
   "metadata": {},
   "outputs": [],
   "source": [
    "# parte 1 - função para extrair as informações do site a partir do código do produto (str)\n",
    "\n",
    "def extraindo_infos(cod_produto:str):\n",
    "    \n",
    "    url = 'https://world.openfoodfacts.org/api/v2/product/'\n",
    "    url_completa = url + cod_produto\n",
    "\n",
    "    resposta = requests.get(url_completa)\n",
    "\n",
    "    dados_brutos = resposta.json()\n",
    "\n",
    "    return dados_brutos"
   ]
  },
  {
   "cell_type": "code",
   "execution_count": 16,
   "metadata": {},
   "outputs": [],
   "source": [
    "cod_produto = '7891000369371'\n",
    "\n",
    "dados_brutos = extraindo_infos(cod_produto)"
   ]
  },
  {
   "cell_type": "code",
   "execution_count": 32,
   "metadata": {},
   "outputs": [],
   "source": [
    "# parte 2 - criando um dataframe com as colunas de nosso interesse a partir dos dados brutos que obtivemos no requests.get \n",
    "\n",
    "def selecionando_dados(dados_brutos):\n",
    "\n",
    "    dados_produto = dados_brutos.get('product', None)\n",
    "\n",
    "    dados = pd.json_normalize(dados_produto) # transformando o json em dataframe, bidimensional (LXC)\n",
    "    \n",
    "    dados_target = dados[['_id', 'product_name', 'brands', 'created_t', 'image_front_small_url']] # selecionando colunas de nosso interesse\n",
    "\n",
    "    return dados_target # aqui, retornamos um dataframe com as colunas que nos interessam\n"
   ]
  },
  {
   "cell_type": "code",
   "execution_count": 33,
   "metadata": {},
   "outputs": [],
   "source": [
    "dados_target = selecionando_dados(dados_brutos)"
   ]
  },
  {
   "cell_type": "code",
   "execution_count": 36,
   "metadata": {},
   "outputs": [],
   "source": [
    "# parte 3 - agora, vamos incluir algumas colunas e ver se precisamos fazer alguma transformação nos dados que já obtivemos\n",
    "\n",
    "def modelagem_final(dados_target):\n",
    "    # primeiro: converter a coluna created_t para o formato datetime em data\n",
    "    dados_target['created_t'] = pd.to_datetime(dados_target['created_t'], unit='s')\n",
    "\n",
    "    # depois: incluir coluna com a data de inclusão do registro no dataframe\n",
    "    dados_target['data_registro'] = dt.now()\n",
    "\n",
    "\n",
    "    return(dados_target)"
   ]
  },
  {
   "cell_type": "code",
   "execution_count": 37,
   "metadata": {},
   "outputs": [
    {
     "data": {
      "text/html": [
       "<div>\n",
       "<style scoped>\n",
       "    .dataframe tbody tr th:only-of-type {\n",
       "        vertical-align: middle;\n",
       "    }\n",
       "\n",
       "    .dataframe tbody tr th {\n",
       "        vertical-align: top;\n",
       "    }\n",
       "\n",
       "    .dataframe thead th {\n",
       "        text-align: right;\n",
       "    }\n",
       "</style>\n",
       "<table border=\"1\" class=\"dataframe\">\n",
       "  <thead>\n",
       "    <tr style=\"text-align: right;\">\n",
       "      <th></th>\n",
       "      <th>_id</th>\n",
       "      <th>product_name</th>\n",
       "      <th>brands</th>\n",
       "      <th>created_t</th>\n",
       "      <th>image_front_small_url</th>\n",
       "      <th>data_registro</th>\n",
       "    </tr>\n",
       "  </thead>\n",
       "  <tbody>\n",
       "    <tr>\n",
       "      <th>0</th>\n",
       "      <td>7891000369371</td>\n",
       "      <td>Chocolate Ao Leite Crunch Pacote 80g</td>\n",
       "      <td>CRUNCH</td>\n",
       "      <td>2023-06-13 01:53:45</td>\n",
       "      <td>https://images.openfoodfacts.org/images/produc...</td>\n",
       "      <td>2023-12-22 07:12:44.530086</td>\n",
       "    </tr>\n",
       "  </tbody>\n",
       "</table>\n",
       "</div>"
      ],
      "text/plain": [
       "             _id                          product_name  brands  \\\n",
       "0  7891000369371  Chocolate Ao Leite Crunch Pacote 80g  CRUNCH   \n",
       "\n",
       "            created_t                              image_front_small_url  \\\n",
       "0 2023-06-13 01:53:45  https://images.openfoodfacts.org/images/produc...   \n",
       "\n",
       "               data_registro  \n",
       "0 2023-12-22 07:12:44.530086  "
      ]
     },
     "execution_count": 37,
     "metadata": {},
     "output_type": "execute_result"
    }
   ],
   "source": [
    "modelagem_final(dados_target)"
   ]
  },
  {
   "cell_type": "code",
   "execution_count": null,
   "metadata": {},
   "outputs": [],
   "source": []
  },
  {
   "cell_type": "code",
   "execution_count": null,
   "metadata": {},
   "outputs": [],
   "source": []
  },
  {
   "cell_type": "code",
   "execution_count": null,
   "metadata": {},
   "outputs": [],
   "source": []
  },
  {
   "cell_type": "code",
   "execution_count": null,
   "metadata": {},
   "outputs": [],
   "source": []
  }
 ],
 "metadata": {
  "kernelspec": {
   "display_name": "Python 3",
   "language": "python",
   "name": "python3"
  },
  "language_info": {
   "codemirror_mode": {
    "name": "ipython",
    "version": 3
   },
   "file_extension": ".py",
   "mimetype": "text/x-python",
   "name": "python",
   "nbconvert_exporter": "python",
   "pygments_lexer": "ipython3",
   "version": "3.9.2"
  }
 },
 "nbformat": 4,
 "nbformat_minor": 2
}
